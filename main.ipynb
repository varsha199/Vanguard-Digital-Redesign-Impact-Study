{
 "cells": [
  {
   "cell_type": "code",
   "execution_count": 1,
   "id": "38fbbc50",
   "metadata": {},
   "outputs": [],
   "source": [
    "import pandas as pd\n",
    "import matplotlib.pyplot as plt\n",
    "import seaborn as sns\n",
    "import numpy as np\n",
    "import functions as f"
   ]
  },
  {
   "cell_type": "code",
   "execution_count": 2,
   "id": "91a465fa",
   "metadata": {},
   "outputs": [
    {
     "data": {
      "text/html": [
       "<div>\n",
       "<style scoped>\n",
       "    .dataframe tbody tr th:only-of-type {\n",
       "        vertical-align: middle;\n",
       "    }\n",
       "\n",
       "    .dataframe tbody tr th {\n",
       "        vertical-align: top;\n",
       "    }\n",
       "\n",
       "    .dataframe thead th {\n",
       "        text-align: right;\n",
       "    }\n",
       "</style>\n",
       "<table border=\"1\" class=\"dataframe\">\n",
       "  <thead>\n",
       "    <tr style=\"text-align: right;\">\n",
       "      <th></th>\n",
       "      <th>client_id</th>\n",
       "      <th>clnt_tenure_yr</th>\n",
       "      <th>clnt_tenure_mnth</th>\n",
       "      <th>clnt_age</th>\n",
       "      <th>gendr</th>\n",
       "      <th>num_accts</th>\n",
       "      <th>bal</th>\n",
       "      <th>calls_6_mnth</th>\n",
       "      <th>logons_6_mnth</th>\n",
       "    </tr>\n",
       "  </thead>\n",
       "  <tbody>\n",
       "    <tr>\n",
       "      <th>0</th>\n",
       "      <td>836976</td>\n",
       "      <td>6.0</td>\n",
       "      <td>73.0</td>\n",
       "      <td>60.5</td>\n",
       "      <td>U</td>\n",
       "      <td>2.0</td>\n",
       "      <td>45105.30</td>\n",
       "      <td>6.0</td>\n",
       "      <td>9.0</td>\n",
       "    </tr>\n",
       "    <tr>\n",
       "      <th>1</th>\n",
       "      <td>2304905</td>\n",
       "      <td>7.0</td>\n",
       "      <td>94.0</td>\n",
       "      <td>58.0</td>\n",
       "      <td>U</td>\n",
       "      <td>2.0</td>\n",
       "      <td>110860.30</td>\n",
       "      <td>6.0</td>\n",
       "      <td>9.0</td>\n",
       "    </tr>\n",
       "    <tr>\n",
       "      <th>2</th>\n",
       "      <td>1439522</td>\n",
       "      <td>5.0</td>\n",
       "      <td>64.0</td>\n",
       "      <td>32.0</td>\n",
       "      <td>U</td>\n",
       "      <td>2.0</td>\n",
       "      <td>52467.79</td>\n",
       "      <td>6.0</td>\n",
       "      <td>9.0</td>\n",
       "    </tr>\n",
       "    <tr>\n",
       "      <th>3</th>\n",
       "      <td>1562045</td>\n",
       "      <td>16.0</td>\n",
       "      <td>198.0</td>\n",
       "      <td>49.0</td>\n",
       "      <td>M</td>\n",
       "      <td>2.0</td>\n",
       "      <td>67454.65</td>\n",
       "      <td>3.0</td>\n",
       "      <td>6.0</td>\n",
       "    </tr>\n",
       "    <tr>\n",
       "      <th>4</th>\n",
       "      <td>5126305</td>\n",
       "      <td>12.0</td>\n",
       "      <td>145.0</td>\n",
       "      <td>33.0</td>\n",
       "      <td>F</td>\n",
       "      <td>2.0</td>\n",
       "      <td>103671.75</td>\n",
       "      <td>0.0</td>\n",
       "      <td>3.0</td>\n",
       "    </tr>\n",
       "  </tbody>\n",
       "</table>\n",
       "</div>"
      ],
      "text/plain": [
       "   client_id  clnt_tenure_yr  clnt_tenure_mnth  clnt_age gendr  num_accts  \\\n",
       "0     836976             6.0              73.0      60.5     U        2.0   \n",
       "1    2304905             7.0              94.0      58.0     U        2.0   \n",
       "2    1439522             5.0              64.0      32.0     U        2.0   \n",
       "3    1562045            16.0             198.0      49.0     M        2.0   \n",
       "4    5126305            12.0             145.0      33.0     F        2.0   \n",
       "\n",
       "         bal  calls_6_mnth  logons_6_mnth  \n",
       "0   45105.30           6.0            9.0  \n",
       "1  110860.30           6.0            9.0  \n",
       "2   52467.79           6.0            9.0  \n",
       "3   67454.65           3.0            6.0  \n",
       "4  103671.75           0.0            3.0  "
      ]
     },
     "execution_count": 2,
     "metadata": {},
     "output_type": "execute_result"
    }
   ],
   "source": [
    "#loading dataset df_final_demo\n",
    "df_final_demo = f.load_data(\"./df_final_demo.txt\")\n",
    "df_final_demo.head()"
   ]
  },
  {
   "cell_type": "code",
   "execution_count": 3,
   "id": "f8c27d9c",
   "metadata": {},
   "outputs": [],
   "source": [
    "df_final_demo['gendr'] = df_final_demo['gendr'].replace('X', 'U')"
   ]
  },
  {
   "cell_type": "code",
   "execution_count": 4,
   "id": "11527f5e",
   "metadata": {},
   "outputs": [
    {
     "data": {
      "text/html": [
       "<div>\n",
       "<style scoped>\n",
       "    .dataframe tbody tr th:only-of-type {\n",
       "        vertical-align: middle;\n",
       "    }\n",
       "\n",
       "    .dataframe tbody tr th {\n",
       "        vertical-align: top;\n",
       "    }\n",
       "\n",
       "    .dataframe thead th {\n",
       "        text-align: right;\n",
       "    }\n",
       "</style>\n",
       "<table border=\"1\" class=\"dataframe\">\n",
       "  <thead>\n",
       "    <tr style=\"text-align: right;\">\n",
       "      <th></th>\n",
       "      <th>client_id</th>\n",
       "      <th>Variation</th>\n",
       "    </tr>\n",
       "  </thead>\n",
       "  <tbody>\n",
       "    <tr>\n",
       "      <th>0</th>\n",
       "      <td>9988021</td>\n",
       "      <td>Test</td>\n",
       "    </tr>\n",
       "    <tr>\n",
       "      <th>1</th>\n",
       "      <td>8320017</td>\n",
       "      <td>Test</td>\n",
       "    </tr>\n",
       "    <tr>\n",
       "      <th>2</th>\n",
       "      <td>4033851</td>\n",
       "      <td>Control</td>\n",
       "    </tr>\n",
       "    <tr>\n",
       "      <th>3</th>\n",
       "      <td>1982004</td>\n",
       "      <td>Test</td>\n",
       "    </tr>\n",
       "    <tr>\n",
       "      <th>4</th>\n",
       "      <td>9294070</td>\n",
       "      <td>Control</td>\n",
       "    </tr>\n",
       "  </tbody>\n",
       "</table>\n",
       "</div>"
      ],
      "text/plain": [
       "   client_id Variation\n",
       "0    9988021      Test\n",
       "1    8320017      Test\n",
       "2    4033851   Control\n",
       "3    1982004      Test\n",
       "4    9294070   Control"
      ]
     },
     "execution_count": 4,
     "metadata": {},
     "output_type": "execute_result"
    }
   ],
   "source": [
    "#loading dataset df_final_experiment_clients\n",
    "df_final_experiment_clients = f.load_data(\"./df_final_experiment_clients.txt\")\n",
    "df_final_experiment_clients.head()"
   ]
  },
  {
   "cell_type": "code",
   "execution_count": 5,
   "id": "4bd34a01",
   "metadata": {},
   "outputs": [
    {
     "data": {
      "text/html": [
       "<div>\n",
       "<style scoped>\n",
       "    .dataframe tbody tr th:only-of-type {\n",
       "        vertical-align: middle;\n",
       "    }\n",
       "\n",
       "    .dataframe tbody tr th {\n",
       "        vertical-align: top;\n",
       "    }\n",
       "\n",
       "    .dataframe thead th {\n",
       "        text-align: right;\n",
       "    }\n",
       "</style>\n",
       "<table border=\"1\" class=\"dataframe\">\n",
       "  <thead>\n",
       "    <tr style=\"text-align: right;\">\n",
       "      <th></th>\n",
       "      <th>client_id</th>\n",
       "      <th>visitor_id</th>\n",
       "      <th>visit_id</th>\n",
       "      <th>process_step</th>\n",
       "      <th>date_time</th>\n",
       "    </tr>\n",
       "  </thead>\n",
       "  <tbody>\n",
       "    <tr>\n",
       "      <th>0</th>\n",
       "      <td>9988021</td>\n",
       "      <td>580560515_7732621733</td>\n",
       "      <td>781255054_21935453173_531117</td>\n",
       "      <td>step_3</td>\n",
       "      <td>2017-04-17 15:27:07</td>\n",
       "    </tr>\n",
       "    <tr>\n",
       "      <th>1</th>\n",
       "      <td>9988021</td>\n",
       "      <td>580560515_7732621733</td>\n",
       "      <td>781255054_21935453173_531117</td>\n",
       "      <td>step_2</td>\n",
       "      <td>2017-04-17 15:26:51</td>\n",
       "    </tr>\n",
       "    <tr>\n",
       "      <th>2</th>\n",
       "      <td>9988021</td>\n",
       "      <td>580560515_7732621733</td>\n",
       "      <td>781255054_21935453173_531117</td>\n",
       "      <td>step_3</td>\n",
       "      <td>2017-04-17 15:19:22</td>\n",
       "    </tr>\n",
       "    <tr>\n",
       "      <th>3</th>\n",
       "      <td>9988021</td>\n",
       "      <td>580560515_7732621733</td>\n",
       "      <td>781255054_21935453173_531117</td>\n",
       "      <td>step_2</td>\n",
       "      <td>2017-04-17 15:19:13</td>\n",
       "    </tr>\n",
       "    <tr>\n",
       "      <th>4</th>\n",
       "      <td>9988021</td>\n",
       "      <td>580560515_7732621733</td>\n",
       "      <td>781255054_21935453173_531117</td>\n",
       "      <td>step_3</td>\n",
       "      <td>2017-04-17 15:18:04</td>\n",
       "    </tr>\n",
       "  </tbody>\n",
       "</table>\n",
       "</div>"
      ],
      "text/plain": [
       "   client_id            visitor_id                      visit_id process_step  \\\n",
       "0    9988021  580560515_7732621733  781255054_21935453173_531117       step_3   \n",
       "1    9988021  580560515_7732621733  781255054_21935453173_531117       step_2   \n",
       "2    9988021  580560515_7732621733  781255054_21935453173_531117       step_3   \n",
       "3    9988021  580560515_7732621733  781255054_21935453173_531117       step_2   \n",
       "4    9988021  580560515_7732621733  781255054_21935453173_531117       step_3   \n",
       "\n",
       "             date_time  \n",
       "0  2017-04-17 15:27:07  \n",
       "1  2017-04-17 15:26:51  \n",
       "2  2017-04-17 15:19:22  \n",
       "3  2017-04-17 15:19:13  \n",
       "4  2017-04-17 15:18:04  "
      ]
     },
     "execution_count": 5,
     "metadata": {},
     "output_type": "execute_result"
    }
   ],
   "source": [
    "#loading dataset df_final_web_data_pt_1\n",
    "df_final_web_data_pt_1 = f.load_data(\"./df_final_web_data_pt_1.txt\")\n",
    "df_final_web_data_pt_1.head()"
   ]
  },
  {
   "cell_type": "code",
   "execution_count": 6,
   "id": "80d86b2e",
   "metadata": {},
   "outputs": [
    {
     "data": {
      "text/html": [
       "<div>\n",
       "<style scoped>\n",
       "    .dataframe tbody tr th:only-of-type {\n",
       "        vertical-align: middle;\n",
       "    }\n",
       "\n",
       "    .dataframe tbody tr th {\n",
       "        vertical-align: top;\n",
       "    }\n",
       "\n",
       "    .dataframe thead th {\n",
       "        text-align: right;\n",
       "    }\n",
       "</style>\n",
       "<table border=\"1\" class=\"dataframe\">\n",
       "  <thead>\n",
       "    <tr style=\"text-align: right;\">\n",
       "      <th></th>\n",
       "      <th>client_id</th>\n",
       "      <th>visitor_id</th>\n",
       "      <th>visit_id</th>\n",
       "      <th>process_step</th>\n",
       "      <th>date_time</th>\n",
       "    </tr>\n",
       "  </thead>\n",
       "  <tbody>\n",
       "    <tr>\n",
       "      <th>0</th>\n",
       "      <td>763412</td>\n",
       "      <td>601952081_10457207388</td>\n",
       "      <td>397475557_40440946728_419634</td>\n",
       "      <td>confirm</td>\n",
       "      <td>2017-06-06 08:56:00</td>\n",
       "    </tr>\n",
       "    <tr>\n",
       "      <th>1</th>\n",
       "      <td>6019349</td>\n",
       "      <td>442094451_91531546617</td>\n",
       "      <td>154620534_35331068705_522317</td>\n",
       "      <td>confirm</td>\n",
       "      <td>2017-06-01 11:59:27</td>\n",
       "    </tr>\n",
       "    <tr>\n",
       "      <th>2</th>\n",
       "      <td>6019349</td>\n",
       "      <td>442094451_91531546617</td>\n",
       "      <td>154620534_35331068705_522317</td>\n",
       "      <td>step_3</td>\n",
       "      <td>2017-06-01 11:58:48</td>\n",
       "    </tr>\n",
       "    <tr>\n",
       "      <th>3</th>\n",
       "      <td>6019349</td>\n",
       "      <td>442094451_91531546617</td>\n",
       "      <td>154620534_35331068705_522317</td>\n",
       "      <td>step_2</td>\n",
       "      <td>2017-06-01 11:58:08</td>\n",
       "    </tr>\n",
       "    <tr>\n",
       "      <th>4</th>\n",
       "      <td>6019349</td>\n",
       "      <td>442094451_91531546617</td>\n",
       "      <td>154620534_35331068705_522317</td>\n",
       "      <td>step_1</td>\n",
       "      <td>2017-06-01 11:57:58</td>\n",
       "    </tr>\n",
       "  </tbody>\n",
       "</table>\n",
       "</div>"
      ],
      "text/plain": [
       "   client_id             visitor_id                      visit_id  \\\n",
       "0     763412  601952081_10457207388  397475557_40440946728_419634   \n",
       "1    6019349  442094451_91531546617  154620534_35331068705_522317   \n",
       "2    6019349  442094451_91531546617  154620534_35331068705_522317   \n",
       "3    6019349  442094451_91531546617  154620534_35331068705_522317   \n",
       "4    6019349  442094451_91531546617  154620534_35331068705_522317   \n",
       "\n",
       "  process_step            date_time  \n",
       "0      confirm  2017-06-06 08:56:00  \n",
       "1      confirm  2017-06-01 11:59:27  \n",
       "2       step_3  2017-06-01 11:58:48  \n",
       "3       step_2  2017-06-01 11:58:08  \n",
       "4       step_1  2017-06-01 11:57:58  "
      ]
     },
     "execution_count": 6,
     "metadata": {},
     "output_type": "execute_result"
    }
   ],
   "source": [
    "#loading dataset df_final_web_data_pt_2\n",
    "df_final_web_data_pt_2 = f.load_data(\"./df_final_web_data_pt_2.txt\")\n",
    "df_final_web_data_pt_2.head()"
   ]
  },
  {
   "cell_type": "code",
   "execution_count": 7,
   "id": "56998f90",
   "metadata": {},
   "outputs": [
    {
     "data": {
      "text/html": [
       "<div>\n",
       "<style scoped>\n",
       "    .dataframe tbody tr th:only-of-type {\n",
       "        vertical-align: middle;\n",
       "    }\n",
       "\n",
       "    .dataframe tbody tr th {\n",
       "        vertical-align: top;\n",
       "    }\n",
       "\n",
       "    .dataframe thead th {\n",
       "        text-align: right;\n",
       "    }\n",
       "</style>\n",
       "<table border=\"1\" class=\"dataframe\">\n",
       "  <thead>\n",
       "    <tr style=\"text-align: right;\">\n",
       "      <th></th>\n",
       "      <th>client_id</th>\n",
       "      <th>visitor_id</th>\n",
       "      <th>visit_id</th>\n",
       "      <th>process_step</th>\n",
       "      <th>date_time</th>\n",
       "    </tr>\n",
       "  </thead>\n",
       "  <tbody>\n",
       "    <tr>\n",
       "      <th>0</th>\n",
       "      <td>9988021</td>\n",
       "      <td>580560515_7732621733</td>\n",
       "      <td>781255054_21935453173_531117</td>\n",
       "      <td>step_3</td>\n",
       "      <td>2017-04-17 15:27:07</td>\n",
       "    </tr>\n",
       "    <tr>\n",
       "      <th>1</th>\n",
       "      <td>9988021</td>\n",
       "      <td>580560515_7732621733</td>\n",
       "      <td>781255054_21935453173_531117</td>\n",
       "      <td>step_2</td>\n",
       "      <td>2017-04-17 15:26:51</td>\n",
       "    </tr>\n",
       "    <tr>\n",
       "      <th>2</th>\n",
       "      <td>9988021</td>\n",
       "      <td>580560515_7732621733</td>\n",
       "      <td>781255054_21935453173_531117</td>\n",
       "      <td>step_3</td>\n",
       "      <td>2017-04-17 15:19:22</td>\n",
       "    </tr>\n",
       "    <tr>\n",
       "      <th>3</th>\n",
       "      <td>9988021</td>\n",
       "      <td>580560515_7732621733</td>\n",
       "      <td>781255054_21935453173_531117</td>\n",
       "      <td>step_2</td>\n",
       "      <td>2017-04-17 15:19:13</td>\n",
       "    </tr>\n",
       "    <tr>\n",
       "      <th>4</th>\n",
       "      <td>9988021</td>\n",
       "      <td>580560515_7732621733</td>\n",
       "      <td>781255054_21935453173_531117</td>\n",
       "      <td>step_3</td>\n",
       "      <td>2017-04-17 15:18:04</td>\n",
       "    </tr>\n",
       "  </tbody>\n",
       "</table>\n",
       "</div>"
      ],
      "text/plain": [
       "   client_id            visitor_id                      visit_id process_step  \\\n",
       "0    9988021  580560515_7732621733  781255054_21935453173_531117       step_3   \n",
       "1    9988021  580560515_7732621733  781255054_21935453173_531117       step_2   \n",
       "2    9988021  580560515_7732621733  781255054_21935453173_531117       step_3   \n",
       "3    9988021  580560515_7732621733  781255054_21935453173_531117       step_2   \n",
       "4    9988021  580560515_7732621733  781255054_21935453173_531117       step_3   \n",
       "\n",
       "             date_time  \n",
       "0  2017-04-17 15:27:07  \n",
       "1  2017-04-17 15:26:51  \n",
       "2  2017-04-17 15:19:22  \n",
       "3  2017-04-17 15:19:13  \n",
       "4  2017-04-17 15:18:04  "
      ]
     },
     "execution_count": 7,
     "metadata": {},
     "output_type": "execute_result"
    }
   ],
   "source": [
    "#loading dataset merging the two dataset\n",
    "df_final_web_data = pd.concat([df_final_web_data_pt_1, df_final_web_data_pt_2], ignore_index = True)\n",
    "df_final_web_data.head()"
   ]
  },
  {
   "cell_type": "code",
   "execution_count": 8,
   "id": "65ca93a1",
   "metadata": {},
   "outputs": [],
   "source": [
    "df_final_demo.dropna(inplace=True)"
   ]
  },
  {
   "cell_type": "code",
   "execution_count": 9,
   "id": "ca9be6db",
   "metadata": {},
   "outputs": [],
   "source": [
    "df_experiment = df_final_experiment_clients.dropna(subset=['Variation'])"
   ]
  },
  {
   "cell_type": "markdown",
   "id": "6a867f4b",
   "metadata": {},
   "source": [
    "# These 3 datasets to be used after final cleaning for further analysis\n",
    "df_final_demo,\n",
    "df_experiment,\n",
    "df_final_web_data"
   ]
  },
  {
   "cell_type": "code",
   "execution_count": 10,
   "id": "bf285acb",
   "metadata": {},
   "outputs": [
    {
     "name": "stdout",
     "output_type": "stream",
     "text": [
      "<class 'pandas.core.frame.DataFrame'>\n",
      "Index: 70594 entries, 0 to 70608\n",
      "Data columns (total 9 columns):\n",
      " #   Column            Non-Null Count  Dtype  \n",
      "---  ------            --------------  -----  \n",
      " 0   client_id         70594 non-null  int64  \n",
      " 1   clnt_tenure_yr    70594 non-null  float64\n",
      " 2   clnt_tenure_mnth  70594 non-null  float64\n",
      " 3   clnt_age          70594 non-null  float64\n",
      " 4   gendr             70594 non-null  object \n",
      " 5   num_accts         70594 non-null  float64\n",
      " 6   bal               70594 non-null  float64\n",
      " 7   calls_6_mnth      70594 non-null  float64\n",
      " 8   logons_6_mnth     70594 non-null  float64\n",
      "dtypes: float64(7), int64(1), object(1)\n",
      "memory usage: 5.4+ MB\n"
     ]
    }
   ],
   "source": [
    "df_final_demo.info()"
   ]
  },
  {
   "cell_type": "code",
   "execution_count": 11,
   "id": "532d94dc",
   "metadata": {},
   "outputs": [
    {
     "data": {
      "text/plain": [
       "<Axes: xlabel='clnt_age', ylabel='Count'>"
      ]
     },
     "execution_count": 11,
     "metadata": {},
     "output_type": "execute_result"
    },
    {
     "data": {
      "image/png": "[encoded data removed]",
      "text/plain": [
       "<Figure size 640x480 with 1 Axes>"
      ]
     },
     "metadata": {},
     "output_type": "display_data"
    }
   ],
   "source": [
    "sns.histplot(df_final_demo['clnt_age'], bins = 20, kde =True)"
   ]
  },
  {
   "cell_type": "code",
   "execution_count": 12,
   "id": "fb12423b",
   "metadata": {},
   "outputs": [
    {
     "data": {
      "text/plain": [
       "<Axes: xlabel='clnt_age'>"
      ]
     },
     "execution_count": 12,
     "metadata": {},
     "output_type": "execute_result"
    },
    {
     "data": {
      "image/png": "[encoded data removed]",
      "text/plain": [
       "<Figure size 640x480 with 1 Axes>"
      ]
     },
     "metadata": {},
     "output_type": "display_data"
    }
   ],
   "source": [
    "sns.boxplot(x = df_final_demo['clnt_age'])"
   ]
  },
  {
   "cell_type": "code",
   "execution_count": 13,
   "id": "c9bdf456",
   "metadata": {},
   "outputs": [
    {
     "data": {
      "text/plain": [
       "<Axes: xlabel='gendr', ylabel='count'>"
      ]
     },
     "execution_count": 13,
     "metadata": {},
     "output_type": "execute_result"
    },
    {
     "data": {
      "image/png": "[encoded data removed]",
      "text/plain": [
       "<Figure size 640x480 with 1 Axes>"
      ]
     },
     "metadata": {},
     "output_type": "display_data"
    }
   ],
   "source": [
    "sns.countplot(data=df_final_demo, x='gendr')"
   ]
  },
  {
   "cell_type": "code",
   "execution_count": 14,
   "id": "e3ca3eaf",
   "metadata": {},
   "outputs": [
    {
     "name": "stdout",
     "output_type": "stream",
     "text": [
      "gendr\n",
      "U    34.174292\n",
      "M    33.606255\n",
      "F    32.219452\n",
      "Name: proportion, dtype: float64\n"
     ]
    }
   ],
   "source": [
    "gender_percent = df_final_demo['gendr'].value_counts(normalize=True) * 100\n",
    "print(gender_percent)"
   ]
  },
  {
   "cell_type": "code",
   "execution_count": 15,
   "id": "4b9ddbdd",
   "metadata": {},
   "outputs": [
    {
     "data": {
      "text/plain": [
       "<Axes: xlabel='num_accts', ylabel='clnt_tenure_yr'>"
      ]
     },
     "execution_count": 15,
     "metadata": {},
     "output_type": "execute_result"
    },
    {
     "data": {
      "image/png": "[encoded data removed]",
      "text/plain": [
       "<Figure size 640x480 with 1 Axes>"
      ]
     },
     "metadata": {},
     "output_type": "display_data"
    }
   ],
   "source": [
    "sns.boxplot(data=df_final_demo, x='num_accts', y='clnt_tenure_yr')"
   ]
  },
  {
   "cell_type": "code",
   "execution_count": 16,
   "id": "a48c11f4",
   "metadata": {},
   "outputs": [
    {
     "data": {
      "text/plain": [
       "<Axes: xlabel='account_type', ylabel='count'>"
      ]
     },
     "execution_count": 16,
     "metadata": {},
     "output_type": "execute_result"
    },
    {
     "data": {
      "image/png": "[encoded data removed]",
      "text/plain": [
       "<Figure size 640x480 with 1 Axes>"
      ]
     },
     "metadata": {},
     "output_type": "display_data"
    }
   ],
   "source": [
    "df_final_demo['account_type'] = df_final_demo['clnt_tenure_yr'].apply(lambda x: 'New' if x < 2 else 'Long-standing')\n",
    "sns.countplot(data=df_final_demo, x='account_type')"
   ]
  },
  {
   "cell_type": "code",
   "execution_count": 17,
   "id": "a882c9b7",
   "metadata": {},
   "outputs": [
    {
     "data": {
      "text/plain": [
       "<Axes: xlabel='gendr', ylabel='clnt_age'>"
      ]
     },
     "execution_count": 17,
     "metadata": {},
     "output_type": "execute_result"
    },
    {
     "data": {
      "image/png": "[encoded data removed]",
      "text/plain": [
       "<Figure size 640x480 with 1 Axes>"
      ]
     },
     "metadata": {},
     "output_type": "display_data"
    }
   ],
   "source": [
    "sns.boxplot(data=df_final_demo, x='gendr', y='clnt_age', hue='account_type')"
   ]
  },
  {
   "cell_type": "code",
   "execution_count": null,
   "id": "df40e30e",
   "metadata": {},
   "outputs": [
    {
     "data": {
      "text/plain": [
       "visit_id\n",
       "100012776_37918976071_457913     True\n",
       "1000165_4190026492_760066        True\n",
       "100019538_17884295066_43909      True\n",
       "100022086_87870757897_149620     True\n",
       "100030127_47967100085_936361    False\n",
       "                                ...  \n",
       "999986292_55082159911_561557     True\n",
       "999988789_76411676596_272843    False\n",
       "999989069_52203656268_170206    False\n",
       "999991142_15352368745_399725    False\n",
       "999992932_41666455053_671149     True\n",
       "Name: process_step, Length: 158095, dtype: bool"
      ]
     },
     "execution_count": 19,
     "metadata": {},
     "output_type": "execute_result"
    }
   ],
   "source": [
    "# Find clients who reached the final confirm step\n",
    "completion = df_final_web_data.groupby('visit_id')['process_step'].apply(lambda steps: 'confirm' in steps.values)\n",
    "completion"
   ]
  },
  {
   "cell_type": "code",
   "execution_count": null,
   "id": "a9fd74d1",
   "metadata": {},
   "outputs": [
    {
     "name": "stdout",
     "output_type": "stream",
     "text": [
      "Completion Rate: 56.82%\n"
     ]
    }
   ],
   "source": [
    "completion_rate = completion.mean() * 100\n",
    "print(f\"Completion Rate: {completion_rate:.2f}%\")"
   ]
  },
  {
   "cell_type": "code",
   "execution_count": 29,
   "id": "d7702237",
   "metadata": {},
   "outputs": [
    {
     "data": {
      "text/html": [
       "<div>\n",
       "<style scoped>\n",
       "    .dataframe tbody tr th:only-of-type {\n",
       "        vertical-align: middle;\n",
       "    }\n",
       "\n",
       "    .dataframe tbody tr th {\n",
       "        vertical-align: top;\n",
       "    }\n",
       "\n",
       "    .dataframe thead th {\n",
       "        text-align: right;\n",
       "    }\n",
       "</style>\n",
       "<table border=\"1\" class=\"dataframe\">\n",
       "  <thead>\n",
       "    <tr style=\"text-align: right;\">\n",
       "      <th></th>\n",
       "      <th>client_id</th>\n",
       "      <th>visitor_id</th>\n",
       "      <th>visit_id</th>\n",
       "      <th>process_step</th>\n",
       "      <th>date_time</th>\n",
       "      <th>time_diff</th>\n",
       "      <th>time_diff_sec</th>\n",
       "    </tr>\n",
       "  </thead>\n",
       "  <tbody>\n",
       "    <tr>\n",
       "      <th>108614</th>\n",
       "      <td>3561384</td>\n",
       "      <td>451664975_1722933822</td>\n",
       "      <td>100012776_37918976071_457913</td>\n",
       "      <td>confirm</td>\n",
       "      <td>2017-04-26 13:22:17</td>\n",
       "      <td>NaT</td>\n",
       "      <td>NaN</td>\n",
       "    </tr>\n",
       "    <tr>\n",
       "      <th>108613</th>\n",
       "      <td>3561384</td>\n",
       "      <td>451664975_1722933822</td>\n",
       "      <td>100012776_37918976071_457913</td>\n",
       "      <td>confirm</td>\n",
       "      <td>2017-04-26 13:23:09</td>\n",
       "      <td>0 days 00:00:52</td>\n",
       "      <td>52.0</td>\n",
       "    </tr>\n",
       "    <tr>\n",
       "      <th>447951</th>\n",
       "      <td>9056452</td>\n",
       "      <td>306992881_89423906595</td>\n",
       "      <td>1000165_4190026492_760066</td>\n",
       "      <td>start</td>\n",
       "      <td>2017-06-04 01:07:29</td>\n",
       "      <td>NaT</td>\n",
       "      <td>NaN</td>\n",
       "    </tr>\n",
       "    <tr>\n",
       "      <th>447950</th>\n",
       "      <td>9056452</td>\n",
       "      <td>306992881_89423906595</td>\n",
       "      <td>1000165_4190026492_760066</td>\n",
       "      <td>step_1</td>\n",
       "      <td>2017-06-04 01:07:32</td>\n",
       "      <td>0 days 00:00:03</td>\n",
       "      <td>3.0</td>\n",
       "    </tr>\n",
       "    <tr>\n",
       "      <th>447949</th>\n",
       "      <td>9056452</td>\n",
       "      <td>306992881_89423906595</td>\n",
       "      <td>1000165_4190026492_760066</td>\n",
       "      <td>step_2</td>\n",
       "      <td>2017-06-04 01:07:56</td>\n",
       "      <td>0 days 00:00:24</td>\n",
       "      <td>24.0</td>\n",
       "    </tr>\n",
       "    <tr>\n",
       "      <th>...</th>\n",
       "      <td>...</td>\n",
       "      <td>...</td>\n",
       "      <td>...</td>\n",
       "      <td>...</td>\n",
       "      <td>...</td>\n",
       "      <td>...</td>\n",
       "      <td>...</td>\n",
       "    </tr>\n",
       "    <tr>\n",
       "      <th>539055</th>\n",
       "      <td>7149380</td>\n",
       "      <td>483112224_46340533900</td>\n",
       "      <td>999992932_41666455053_671149</td>\n",
       "      <td>step_1</td>\n",
       "      <td>2017-06-06 15:46:24</td>\n",
       "      <td>0 days 00:00:21</td>\n",
       "      <td>21.0</td>\n",
       "    </tr>\n",
       "    <tr>\n",
       "      <th>539054</th>\n",
       "      <td>7149380</td>\n",
       "      <td>483112224_46340533900</td>\n",
       "      <td>999992932_41666455053_671149</td>\n",
       "      <td>step_2</td>\n",
       "      <td>2017-06-06 15:47:32</td>\n",
       "      <td>0 days 00:01:08</td>\n",
       "      <td>68.0</td>\n",
       "    </tr>\n",
       "    <tr>\n",
       "      <th>539072</th>\n",
       "      <td>7149380</td>\n",
       "      <td>483112224_46340533900</td>\n",
       "      <td>999992932_41666455053_671149</td>\n",
       "      <td>step_3</td>\n",
       "      <td>2017-06-06 16:01:46</td>\n",
       "      <td>0 days 00:14:14</td>\n",
       "      <td>854.0</td>\n",
       "    </tr>\n",
       "    <tr>\n",
       "      <th>539071</th>\n",
       "      <td>7149380</td>\n",
       "      <td>483112224_46340533900</td>\n",
       "      <td>999992932_41666455053_671149</td>\n",
       "      <td>confirm</td>\n",
       "      <td>2017-06-06 16:04:08</td>\n",
       "      <td>0 days 00:02:22</td>\n",
       "      <td>142.0</td>\n",
       "    </tr>\n",
       "    <tr>\n",
       "      <th>539070</th>\n",
       "      <td>7149380</td>\n",
       "      <td>483112224_46340533900</td>\n",
       "      <td>999992932_41666455053_671149</td>\n",
       "      <td>confirm</td>\n",
       "      <td>2017-06-06 16:05:34</td>\n",
       "      <td>0 days 00:01:26</td>\n",
       "      <td>86.0</td>\n",
       "    </tr>\n",
       "  </tbody>\n",
       "</table>\n",
       "<p>755405 rows × 7 columns</p>\n",
       "</div>"
      ],
      "text/plain": [
       "        client_id             visitor_id                      visit_id  \\\n",
       "108614    3561384   451664975_1722933822  100012776_37918976071_457913   \n",
       "108613    3561384   451664975_1722933822  100012776_37918976071_457913   \n",
       "447951    9056452  306992881_89423906595     1000165_4190026492_760066   \n",
       "447950    9056452  306992881_89423906595     1000165_4190026492_760066   \n",
       "447949    9056452  306992881_89423906595     1000165_4190026492_760066   \n",
       "...           ...                    ...                           ...   \n",
       "539055    7149380  483112224_46340533900  999992932_41666455053_671149   \n",
       "539054    7149380  483112224_46340533900  999992932_41666455053_671149   \n",
       "539072    7149380  483112224_46340533900  999992932_41666455053_671149   \n",
       "539071    7149380  483112224_46340533900  999992932_41666455053_671149   \n",
       "539070    7149380  483112224_46340533900  999992932_41666455053_671149   \n",
       "\n",
       "       process_step           date_time       time_diff  time_diff_sec  \n",
       "108614      confirm 2017-04-26 13:22:17             NaT            NaN  \n",
       "108613      confirm 2017-04-26 13:23:09 0 days 00:00:52           52.0  \n",
       "447951        start 2017-06-04 01:07:29             NaT            NaN  \n",
       "447950       step_1 2017-06-04 01:07:32 0 days 00:00:03            3.0  \n",
       "447949       step_2 2017-06-04 01:07:56 0 days 00:00:24           24.0  \n",
       "...             ...                 ...             ...            ...  \n",
       "539055       step_1 2017-06-06 15:46:24 0 days 00:00:21           21.0  \n",
       "539054       step_2 2017-06-06 15:47:32 0 days 00:01:08           68.0  \n",
       "539072       step_3 2017-06-06 16:01:46 0 days 00:14:14          854.0  \n",
       "539071      confirm 2017-06-06 16:04:08 0 days 00:02:22          142.0  \n",
       "539070      confirm 2017-06-06 16:05:34 0 days 00:01:26           86.0  \n",
       "\n",
       "[755405 rows x 7 columns]"
      ]
     },
     "execution_count": 29,
     "metadata": {},
     "output_type": "execute_result"
    }
   ],
   "source": [
    "df_final_web_data = df_final_web_data.sort_values(by=['visit_id','date_time'])\n",
    "df_final_web_data\n"
   ]
  },
  {
   "cell_type": "code",
   "execution_count": 25,
   "id": "7155927b",
   "metadata": {},
   "outputs": [
    {
     "data": {
      "text/plain": [
       "108614               NaT\n",
       "108613   0 days 00:00:52\n",
       "447951               NaT\n",
       "447950   0 days 00:00:03\n",
       "447949   0 days 00:00:24\n",
       "               ...      \n",
       "539055   0 days 00:00:21\n",
       "539054   0 days 00:01:08\n",
       "539072   0 days 00:14:14\n",
       "539071   0 days 00:02:22\n",
       "539070   0 days 00:01:26\n",
       "Name: time_diff, Length: 755405, dtype: timedelta64[ns]"
      ]
     },
     "execution_count": 25,
     "metadata": {},
     "output_type": "execute_result"
    }
   ],
   "source": [
    "# Convert to datetime if not already\n",
    "df_final_web_data['date_time'] = pd.to_datetime(df_final_web_data['date_time'], errors='coerce')\n",
    "\n",
    "# Sort by visit and timestamp\n",
    "df_final_web_data = df_final_web_data.sort_values(by=['visit_id','date_time'])\n",
    "df_final_web_data\n",
    "\n",
    "# Compute time difference\n",
    "df_final_web_data['time_diff'] = df_final_web_data.groupby('visit_id')['date_time'].diff()\n",
    "df_final_web_data['time_diff']"
   ]
  },
  {
   "cell_type": "code",
   "execution_count": 26,
   "id": "55718872",
   "metadata": {},
   "outputs": [
    {
     "name": "stdout",
     "output_type": "stream",
     "text": [
      "                            visit_id process_step           date_time  \\\n",
      "108614  100012776_37918976071_457913      confirm 2017-04-26 13:22:17   \n",
      "108613  100012776_37918976071_457913      confirm 2017-04-26 13:23:09   \n",
      "447951     1000165_4190026492_760066        start 2017-06-04 01:07:29   \n",
      "447950     1000165_4190026492_760066       step_1 2017-06-04 01:07:32   \n",
      "447949     1000165_4190026492_760066       step_2 2017-06-04 01:07:56   \n",
      "447948     1000165_4190026492_760066       step_3 2017-06-04 01:09:13   \n",
      "447947     1000165_4190026492_760066      confirm 2017-06-04 01:09:50   \n",
      "240562   100019538_17884295066_43909        start 2017-04-09 16:20:56   \n",
      "240561   100019538_17884295066_43909       step_1 2017-04-09 16:21:12   \n",
      "240560   100019538_17884295066_43909       step_2 2017-04-09 16:21:21   \n",
      "240559   100019538_17884295066_43909       step_1 2017-04-09 16:21:35   \n",
      "240558   100019538_17884295066_43909       step_1 2017-04-09 16:21:41   \n",
      "240557   100019538_17884295066_43909        start 2017-04-09 16:21:45   \n",
      "240556   100019538_17884295066_43909        start 2017-04-09 16:21:59   \n",
      "240555   100019538_17884295066_43909       step_1 2017-04-09 16:22:04   \n",
      "\n",
      "             time_diff  \n",
      "108614             NaT  \n",
      "108613 0 days 00:00:52  \n",
      "447951             NaT  \n",
      "447950 0 days 00:00:03  \n",
      "447949 0 days 00:00:24  \n",
      "447948 0 days 00:01:17  \n",
      "447947 0 days 00:00:37  \n",
      "240562             NaT  \n",
      "240561 0 days 00:00:16  \n",
      "240560 0 days 00:00:09  \n",
      "240559 0 days 00:00:14  \n",
      "240558 0 days 00:00:06  \n",
      "240557 0 days 00:00:04  \n",
      "240556 0 days 00:00:14  \n",
      "240555 0 days 00:00:05  \n"
     ]
    }
   ],
   "source": [
    "print(df_final_web_data[['visit_id','process_step','date_time','time_diff']].head(15))"
   ]
  },
  {
   "cell_type": "code",
   "execution_count": 34,
   "id": "8fb29cf7",
   "metadata": {},
   "outputs": [
    {
     "data": {
      "text/plain": [
       "108614          NaN\n",
       "108613     0.866667\n",
       "447951          NaN\n",
       "447950     0.050000\n",
       "447949     0.400000\n",
       "            ...    \n",
       "539055     0.350000\n",
       "539054     1.133333\n",
       "539072    14.233333\n",
       "539071     2.366667\n",
       "539070     1.433333\n",
       "Name: time_diff_min, Length: 755405, dtype: float64"
      ]
     },
     "execution_count": 34,
     "metadata": {},
     "output_type": "execute_result"
    }
   ],
   "source": [
    "df_final_web_data['time_diff_min'] = df_final_web_data['time_diff'].dt.total_seconds()/60\n",
    "df_final_web_data['time_diff_min']"
   ]
  },
  {
   "cell_type": "code",
   "execution_count": null,
   "id": "cec2b647",
   "metadata": {},
   "outputs": [
    {
     "name": "stdout",
     "output_type": "stream",
     "text": [
      "  process_step  time_diff_min\n",
      "0      confirm       2.176374\n",
      "1        start       2.447007\n",
      "2       step_1       0.658573\n",
      "3       step_2       0.763398\n",
      "4       step_3       1.657354\n"
     ]
    }
   ],
   "source": [
    "# average duration users spend on each step\n",
    "time_per_step = df_final_web_data.groupby('process_step')['time_diff_min'].mean().reset_index()\n",
    "print(time_per_step)"
   ]
  },
  {
   "cell_type": "code",
   "execution_count": 57,
   "id": "bd7db78b",
   "metadata": {},
   "outputs": [
    {
     "name": "stdout",
     "output_type": "stream",
     "text": [
      "Error Rate: 63.66% of visits had at least one step-back\n"
     ]
    }
   ],
   "source": [
    "#If a client moves from a later step (e.g. step_3) back to an earlier step (e.g. step_2), count it as an error.\n",
    "\n",
    "errors_per_visit = (df_final_web_data.groupby('visit_id')['process_step']\n",
    "                    .apply(lambda steps: sum(steps.iloc[i] < steps.iloc[i-1] for i in range(1, len(steps))))\n",
    "    .reset_index(name='num_errors')\n",
    ")\n",
    "\n",
    "# Average error rate across visits\n",
    "error_rate = (errors_per_visit['num_errors'] > 0).mean() * 100\n",
    "print(f\"Error Rate: {error_rate:.2f}% of visits had at least one step-back\")"
   ]
  },
  {
   "cell_type": "code",
   "execution_count": 42,
   "id": "54bb3000",
   "metadata": {},
   "outputs": [
    {
     "name": "stdout",
     "output_type": "stream",
     "text": [
      "confirm    55.618457\n",
      "start      26.681426\n",
      "step_1      8.594832\n",
      "step_3      5.354376\n",
      "step_2      3.750909\n",
      "Name: proportion, dtype: float64\n"
     ]
    },
    {
     "name": "stderr",
     "output_type": "stream",
     "text": [
      "/var/folders/zc/ljl3_lqn79125zg278rlpwtr0000gn/T/ipykernel_2213/2649629372.py:2: FutureWarning: DataFrameGroupBy.apply operated on the grouping columns. This behavior is deprecated, and in a future version of pandas the grouping columns will be excluded from the operation. Either pass `include_groups=False` to exclude the groupings or explicitly select the grouping columns after groupby to silence this warning.\n",
      "  dropoffs = df_final_web_data.groupby('visit_id').apply(lambda x: x['process_step'].iloc[-1]).value_counts(normalize=True)*100\n"
     ]
    }
   ],
   "source": [
    "#Drop-off rate → % of visits that stop at each step without reaching \"confirm\".\n",
    "dropoffs = df_final_web_data.groupby('visit_id').apply(lambda x: x['process_step'].iloc[-1]).value_counts(normalize=True)*100\n",
    "print(dropoffs)"
   ]
  },
  {
   "cell_type": "markdown",
   "id": "01da801d",
   "metadata": {},
   "source": [
    "Insights for the above output:\n",
    "Overall Completion Rate = 55.6%\n",
    "More than half of users successfully complete the process.\n",
    "\n",
    "Biggest Problem = “Start” Screen\n",
    "\n",
    "Almost 27% of users drop off right after starting.\n",
    "\n",
    "This could indicate unclear instructions, poor design, or too much friction upfront.\n",
    "\n",
    "Step-wise Engagement\n",
    "\n",
    "Step 2 → Step 3 is relatively smooth (low drop-off).\n",
    "\n",
    "Step 3 → Confirm has a slightly higher drop-off (5.35%), suggesting a mild usability issue.\n",
    "\n",
    "Optimization Priority\n",
    "\n",
    "First, fix the start experience.\n",
    "\n",
    "Then, investigate why users drop off after step 3."
   ]
  },
  {
   "cell_type": "code",
   "execution_count": 51,
   "id": "8cb5421a",
   "metadata": {},
   "outputs": [
    {
     "data": {
      "text/html": [
       "<div>\n",
       "<style scoped>\n",
       "    .dataframe tbody tr th:only-of-type {\n",
       "        vertical-align: middle;\n",
       "    }\n",
       "\n",
       "    .dataframe tbody tr th {\n",
       "        vertical-align: top;\n",
       "    }\n",
       "\n",
       "    .dataframe thead th {\n",
       "        text-align: right;\n",
       "    }\n",
       "</style>\n",
       "<table border=\"1\" class=\"dataframe\">\n",
       "  <thead>\n",
       "    <tr style=\"text-align: right;\">\n",
       "      <th></th>\n",
       "      <th>client_id</th>\n",
       "      <th>visitor_id</th>\n",
       "      <th>visit_id</th>\n",
       "      <th>process_step</th>\n",
       "      <th>date_time</th>\n",
       "      <th>time_diff</th>\n",
       "      <th>time_diff_sec</th>\n",
       "      <th>time_diff_min</th>\n",
       "      <th>Variation</th>\n",
       "    </tr>\n",
       "  </thead>\n",
       "  <tbody>\n",
       "    <tr>\n",
       "      <th>0</th>\n",
       "      <td>3561384</td>\n",
       "      <td>451664975_1722933822</td>\n",
       "      <td>100012776_37918976071_457913</td>\n",
       "      <td>confirm</td>\n",
       "      <td>2017-04-26 13:22:17</td>\n",
       "      <td>NaT</td>\n",
       "      <td>NaN</td>\n",
       "      <td>NaN</td>\n",
       "      <td>Test</td>\n",
       "    </tr>\n",
       "    <tr>\n",
       "      <th>1</th>\n",
       "      <td>3561384</td>\n",
       "      <td>451664975_1722933822</td>\n",
       "      <td>100012776_37918976071_457913</td>\n",
       "      <td>confirm</td>\n",
       "      <td>2017-04-26 13:23:09</td>\n",
       "      <td>0 days 00:00:52</td>\n",
       "      <td>0.866667</td>\n",
       "      <td>0.866667</td>\n",
       "      <td>Test</td>\n",
       "    </tr>\n",
       "    <tr>\n",
       "      <th>2</th>\n",
       "      <td>9056452</td>\n",
       "      <td>306992881_89423906595</td>\n",
       "      <td>1000165_4190026492_760066</td>\n",
       "      <td>start</td>\n",
       "      <td>2017-06-04 01:07:29</td>\n",
       "      <td>NaT</td>\n",
       "      <td>NaN</td>\n",
       "      <td>NaN</td>\n",
       "      <td>NaN</td>\n",
       "    </tr>\n",
       "    <tr>\n",
       "      <th>3</th>\n",
       "      <td>9056452</td>\n",
       "      <td>306992881_89423906595</td>\n",
       "      <td>1000165_4190026492_760066</td>\n",
       "      <td>step_1</td>\n",
       "      <td>2017-06-04 01:07:32</td>\n",
       "      <td>0 days 00:00:03</td>\n",
       "      <td>0.050000</td>\n",
       "      <td>0.050000</td>\n",
       "      <td>NaN</td>\n",
       "    </tr>\n",
       "    <tr>\n",
       "      <th>4</th>\n",
       "      <td>9056452</td>\n",
       "      <td>306992881_89423906595</td>\n",
       "      <td>1000165_4190026492_760066</td>\n",
       "      <td>step_2</td>\n",
       "      <td>2017-06-04 01:07:56</td>\n",
       "      <td>0 days 00:00:24</td>\n",
       "      <td>0.400000</td>\n",
       "      <td>0.400000</td>\n",
       "      <td>NaN</td>\n",
       "    </tr>\n",
       "  </tbody>\n",
       "</table>\n",
       "</div>"
      ],
      "text/plain": [
       "   client_id             visitor_id                      visit_id  \\\n",
       "0    3561384   451664975_1722933822  100012776_37918976071_457913   \n",
       "1    3561384   451664975_1722933822  100012776_37918976071_457913   \n",
       "2    9056452  306992881_89423906595     1000165_4190026492_760066   \n",
       "3    9056452  306992881_89423906595     1000165_4190026492_760066   \n",
       "4    9056452  306992881_89423906595     1000165_4190026492_760066   \n",
       "\n",
       "  process_step           date_time       time_diff  time_diff_sec  \\\n",
       "0      confirm 2017-04-26 13:22:17             NaT            NaN   \n",
       "1      confirm 2017-04-26 13:23:09 0 days 00:00:52       0.866667   \n",
       "2        start 2017-06-04 01:07:29             NaT            NaN   \n",
       "3       step_1 2017-06-04 01:07:32 0 days 00:00:03       0.050000   \n",
       "4       step_2 2017-06-04 01:07:56 0 days 00:00:24       0.400000   \n",
       "\n",
       "   time_diff_min Variation  \n",
       "0            NaN      Test  \n",
       "1       0.866667      Test  \n",
       "2            NaN       NaN  \n",
       "3       0.050000       NaN  \n",
       "4       0.400000       NaN  "
      ]
     },
     "execution_count": 51,
     "metadata": {},
     "output_type": "execute_result"
    }
   ],
   "source": [
    "#Redesign Outcome: Comparing Old vs New Design\n",
    "#how does the new design's performance compare to the old one?\n",
    "# Merge experiment info\n",
    "df_merged_exp = df_final_web_data.merge(df_experiment, on='client_id', how='left')\n",
    "df_merged_exp.head()\n",
    "\n",
    "# Similarly compute time_per_step and error_rate separately by experiment_group"
   ]
  },
  {
   "cell_type": "code",
   "execution_count": null,
   "id": "f8186ab4",
   "metadata": {},
   "outputs": [
    {
     "name": "stdout",
     "output_type": "stream",
     "text": [
      "Variation\n",
      "Control    0.498493\n",
      "Test       0.585173\n",
      "Name: process_step, dtype: float64\n"
     ]
    }
   ],
   "source": [
    "# Compute completion rate per group(\"confirm step completed\")\n",
    "completion_exp = df_merged_exp.groupby(['Variation', 'visit_id'])['process_step'] \\\n",
    "    .apply(lambda steps: 'confirm' in steps.values) \\\n",
    "    .groupby('Variation') \\\n",
    "    .mean()\n",
    "\n",
    "print(completion_exp)"
   ]
  },
  {
   "cell_type": "code",
   "execution_count": 54,
   "id": "ee23a184",
   "metadata": {},
   "outputs": [
    {
     "name": "stdout",
     "output_type": "stream",
     "text": [
      "  Variation process_step  time_diff_min\n",
      "0   Control      confirm       2.141015\n",
      "1   Control        start       2.581386\n",
      "2   Control       step_1       0.716646\n",
      "3   Control       step_2       0.644464\n",
      "4   Control       step_3       1.549071\n",
      "5      Test      confirm       2.152929\n",
      "6      Test        start       2.482381\n",
      "7      Test       step_1       0.628170\n",
      "8      Test       step_2       0.802194\n",
      "9      Test       step_3       1.614183\n"
     ]
    }
   ],
   "source": [
    "# Average time per step per experiment group\n",
    "time_per_step = df_merged_exp.groupby(['Variation', 'process_step'])['time_diff_min'].mean().reset_index()\n",
    "print(time_per_step)"
   ]
  },
  {
   "cell_type": "code",
   "execution_count": 59,
   "id": "ed648d44",
   "metadata": {},
   "outputs": [
    {
     "name": "stdout",
     "output_type": "stream",
     "text": [
      "  Variation  error_rate\n",
      "0   Control    0.204449\n",
      "1      Test    0.269523\n"
     ]
    }
   ],
   "source": [
    "# Map steps to numbers for easier calculation\n",
    "step_map = {'start': 0, 'step_1': 1, 'step_2': 2, 'step_3': 3, 'confirm': 4}\n",
    "df_merged_exp['step_num'] = df_merged_exp['process_step'].map(step_map)\n",
    "\n",
    "# Function to count backwards steps\n",
    "def count_backwards(steps):\n",
    "    return (steps.diff() < 0).sum()\n",
    "\n",
    "# Compute error rate per visit\n",
    "errors_per_visit = df_merged_exp.groupby(['Variation', 'visit_id'])['step_num'].apply(count_backwards)\n",
    "\n",
    "# Compute % of visits with at least one backward step\n",
    "error_rate = errors_per_visit.groupby('Variation').apply(lambda x: (x > 0).mean()).reset_index(name='error_rate')\n",
    "print(error_rate)"
   ]
  },
  {
   "cell_type": "markdown",
   "id": "fd2b2ebe",
   "metadata": {},
   "source": [
    "Insights of above output:\n",
    "Control group: ~20.4% of visits had at least one step-back\n",
    "\n",
    "Test group: ~26.9% of visits had at least one step-back\n",
    "\n",
    "So the Test (new design) has a higher error rate, suggesting that users in the new design went backward more often, possibly indicating confusion at some steps."
   ]
  },
  {
   "cell_type": "code",
   "execution_count": 60,
   "id": "bd0840ca",
   "metadata": {},
   "outputs": [
    {
     "name": "stdout",
     "output_type": "stream",
     "text": [
      "  Variation process_step  avg_time_sec  avg_time_min\n",
      "0   Control      confirm      2.141015      0.035684\n",
      "1   Control        start      2.581386      0.043023\n",
      "2   Control       step_1      0.716646      0.011944\n",
      "3   Control       step_2      0.644464      0.010741\n",
      "4   Control       step_3      1.549071      0.025818\n",
      "5      Test      confirm      2.152929      0.035882\n",
      "6      Test        start      2.482381      0.041373\n",
      "7      Test       step_1      0.628170      0.010469\n",
      "8      Test       step_2      0.802194      0.013370\n",
      "9      Test       step_3      1.614183      0.026903\n"
     ]
    }
   ],
   "source": [
    "# Compute average time per step by Variation\n",
    "time_per_step_group = (\n",
    "    df_merged_exp.groupby(['Variation', 'process_step'])['time_diff_sec']\n",
    "    .mean()\n",
    "    .reset_index(name='avg_time_sec')\n",
    ")\n",
    "\n",
    "# Optionally convert to minutes\n",
    "time_per_step_group['avg_time_min'] = time_per_step_group['avg_time_sec'] / 60\n",
    "\n",
    "print(time_per_step_group)"
   ]
  }
 ],
 "metadata": {
  "kernelspec": {
   "display_name": "Python 3",
   "language": "python",
   "name": "python3"
  },
  "language_info": {
   "codemirror_mode": {
    "name": "ipython",
    "version": 3
   },
   "file_extension": ".py",
   "mimetype": "text/x-python",
   "name": "python",
   "nbconvert_exporter": "python",
   "pygments_lexer": "ipython3",
   "version": "3.13.6"
  }
 },
 "nbformat": 4,
 "nbformat_minor": 5
}
